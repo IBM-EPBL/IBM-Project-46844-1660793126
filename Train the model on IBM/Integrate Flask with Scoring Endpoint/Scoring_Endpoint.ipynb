{
  "nbformat": 4,
  "nbformat_minor": 0,
  "metadata": {
    "colab": {
      "provenance": []
    },
    "kernelspec": {
      "name": "python3",
      "display_name": "Python 3"
    },
    "language_info": {
      "name": "python"
    }
  },
  "cells": [
    {
      "cell_type": "code",
      "execution_count": 1,
      "metadata": {
        "colab": {
          "base_uri": "https://localhost:8080/"
        },
        "id": "l8xoH_EiyNpS",
        "outputId": "572021fa-0c45-4b08-e37f-ecd8498c47e1"
      },
      "outputs": [
        {
          "output_type": "stream",
          "name": "stdout",
          "text": [
            "Scoring response\n",
            "-1\n",
            "The Website is secure\n"
          ]
        }
      ],
      "source": [
        "import requests\n",
        "\n",
        "# NOTE: you must manually set API_KEY below using information retrieved from your IBM Cloud account.\n",
        "API_KEY = \"PH9QLuJJf3zHUQ3QOQpwueoG-ge4saB--6r_yKip6ULB\"\n",
        "\n",
        "token_response = requests.post('https://iam.cloud.ibm.com/identity/token', data={\"apikey\":\n",
        " API_KEY, \"grant_type\": 'urn:ibm:params:oauth:grant-type:apikey'})\n",
        "mltoken = token_response.json()[\"access_token\"]\n",
        "\n",
        "header = {'Content-Type': 'application/json', 'Authorization': 'Bearer ' + mltoken}\n",
        "\n",
        "# NOTE: manually define and pass the array(s) of values to be scored in the next line\n",
        "payload_scoring = {\"input_data\": [{\"field\": [[ 'having_IPhaving_IP_Address', 'URLURL_Length',\n",
        "       'Shortining_Service', 'having_At_Symbol', 'double_slash_redirecting',\n",
        "       'Prefix_Suffix', 'having_Sub_Domain', 'SSLfinal_State',\n",
        "       'Domain_registeration_length', 'Favicon', 'port', 'HTTPS_token',\n",
        "       'Request_URL', 'URL_of_Anchor', 'Links_in_tags', 'SFH',\n",
        "       'Submitting_to_email', 'Abnormal_URL', 'Redirect', 'on_mouseover',\n",
        "       'RightClick', 'popUpWidnow', 'Iframe', 'age_of_domain', 'DNSRecord',\n",
        "       'web_traffic', 'Page_Rank', 'Google_Index', 'Links_pointing_to_page',\n",
        "       'Statistical_report', 'Result']], \"values\": [[1,1,1,1,1,-1,-1,-1,-1,1,1,1,1,-1,-1,1,1,1,0,1,1,1,1,-1,-1,-1,-1,1,0,1]]}]}\n",
        "\n",
        "response_scoring = requests.post('https://us-south.ml.cloud.ibm.com/ml/v4/deployments/b251c342-e6c7-4083-89a9-d0deaa7aa544/predictions?version=2022-11-18', json=payload_scoring,\n",
        " headers={'Authorization': 'Bearer ' + mltoken})\n",
        "print(\"Scoring response\")\n",
        "predictions=response_scoring.json()\n",
        "#print(response_scoring.json())\n",
        "\n",
        "pred=print(predictions['predictions'][0]['values'][0][0])\n",
        "if(pred != 1):\n",
        "    print(\"The Website is secure\")\n",
        "else:\n",
        "    print(\"The Website is not Legitimate\")"
      ]
    }
  ]
}